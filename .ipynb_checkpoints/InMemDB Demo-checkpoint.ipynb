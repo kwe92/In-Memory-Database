{
 "cells": [
  {
   "cell_type": "markdown",
   "metadata": {},
   "source": [
    "<div style=\"font-family:'times new roman'; background-color:#093145; padding:35px; text-align:center; color:white\">\n",
    "    <h1>InMemDB</h1>\n",
    "    <p>InMemDB is a python package that allows you to create a sqlite relational database in memory\n",
    "     out of a pandas.DataFrame object or any array-like sequence type.<p>\n",
    "</div>\n",
    "<div style=\"font-family:'times new roman'; background-color:#f5f5f5; padding:30px; text-align:center; color:#093145\">\n",
    "    <h1>Advantages</h1><br>\n",
    "    <div style=\"text-align:left; margin:auto; max-width:500px;\">\n",
    "        <ul>\n",
    "            <li>Combines SQLilte with the best data manipulation and analysis tool Pandas</li>\n",
    "            <li>Can be used to Extract, Transform, and Load data</li>\n",
    "            <li>Those who are more familar with SQL can still manipulate the powerful pandas DataFrame</li>\n",
    "        </ul>\n",
    "    </div>\n",
    "</div>"
   ]
  },
  {
   "cell_type": "code",
   "execution_count": 1,
   "metadata": {},
   "outputs": [],
   "source": [
    "from InMemDB import InMemDB\n",
    "import pandas as pd\n",
    "import os\n",
    "import re"
   ]
  },
  {
   "cell_type": "code",
   "execution_count": 2,
   "metadata": {},
   "outputs": [],
   "source": [
    "db = InMemDB()"
   ]
  },
  {
   "cell_type": "code",
   "execution_count": 10,
   "metadata": {},
   "outputs": [],
   "source": [
    "InMemDB.CreateTableDF?"
   ]
  },
  {
   "cell_type": "code",
   "execution_count": 3,
   "metadata": {},
   "outputs": [],
   "source": [
    "os.chdir(r'lego-database')"
   ]
  },
  {
   "cell_type": "code",
   "execution_count": 4,
   "metadata": {},
   "outputs": [
    {
     "data": {
      "text/plain": [
       "['part_categories.csv',\n",
       " 'inventories.csv',\n",
       " 'parts.csv',\n",
       " 'inventory_sets.csv',\n",
       " 'inventory_parts.csv',\n",
       " 'colors.csv',\n",
       " 'sets.csv',\n",
       " 'themes.csv']"
      ]
     },
     "execution_count": 4,
     "metadata": {},
     "output_type": "execute_result"
    }
   ],
   "source": [
    "# We will extract these csv files and load them into our db\n",
    "\n",
    "tables = os.listdir()\n",
    "tables"
   ]
  },
  {
   "cell_type": "code",
   "execution_count": 5,
   "metadata": {},
   "outputs": [],
   "source": [
    "def name(i):\n",
    "    return re.findall('[A-Za-z_A-Za-z]+',i)[0]"
   ]
  },
  {
   "cell_type": "code",
   "execution_count": 6,
   "metadata": {},
   "outputs": [
    {
     "data": {
      "text/plain": [
       "'inventory_parts'"
      ]
     },
     "execution_count": 6,
     "metadata": {},
     "output_type": "execute_result"
    }
   ],
   "source": [
    "name('inventory_parts.csv')"
   ]
  },
  {
   "cell_type": "code",
   "execution_count": 7,
   "metadata": {},
   "outputs": [],
   "source": [
    "for i in tables:\n",
    "    df = pd.read_csv(i)\n",
    "    db.CreateTableDF(table_name=name(i),df=df)"
   ]
  },
  {
   "cell_type": "code",
   "execution_count": 8,
   "metadata": {},
   "outputs": [
    {
     "data": {
      "text/plain": [
       "['colors',\n",
       " 'inventories',\n",
       " 'inventory_parts',\n",
       " 'inventory_sets',\n",
       " 'part_categories',\n",
       " 'parts',\n",
       " 'sets',\n",
       " 'themes']"
      ]
     },
     "execution_count": 8,
     "metadata": {},
     "output_type": "execute_result"
    }
   ],
   "source": [
    "db.TableNames()"
   ]
  },
  {
   "cell_type": "code",
   "execution_count": 9,
   "metadata": {},
   "outputs": [],
   "source": [
    "q1='''\n",
    "SELECT * FROM inventories;\n",
    "'''"
   ]
  },
  {
   "cell_type": "code",
   "execution_count": 10,
   "metadata": {},
   "outputs": [],
   "source": [
    "q2='''\n",
    "SELECT * FROM inventory_parts;\n",
    "'''"
   ]
  },
  {
   "cell_type": "code",
   "execution_count": 11,
   "metadata": {},
   "outputs": [],
   "source": [
    "q3='''\n",
    "SELECT * FROM sets;\n",
    "'''"
   ]
  },
  {
   "cell_type": "code",
   "execution_count": 12,
   "metadata": {},
   "outputs": [
    {
     "data": {
      "text/html": [
       "<div>\n",
       "<style scoped>\n",
       "    .dataframe tbody tr th:only-of-type {\n",
       "        vertical-align: middle;\n",
       "    }\n",
       "\n",
       "    .dataframe tbody tr th {\n",
       "        vertical-align: top;\n",
       "    }\n",
       "\n",
       "    .dataframe thead th {\n",
       "        text-align: right;\n",
       "    }\n",
       "</style>\n",
       "<table border=\"1\" class=\"dataframe\">\n",
       "  <thead>\n",
       "    <tr style=\"text-align: right;\">\n",
       "      <th></th>\n",
       "      <th>id</th>\n",
       "      <th>version</th>\n",
       "      <th>set_num</th>\n",
       "    </tr>\n",
       "  </thead>\n",
       "  <tbody>\n",
       "    <tr>\n",
       "      <th>0</th>\n",
       "      <td>1</td>\n",
       "      <td>1</td>\n",
       "      <td>7922-1</td>\n",
       "    </tr>\n",
       "    <tr>\n",
       "      <th>1</th>\n",
       "      <td>3</td>\n",
       "      <td>1</td>\n",
       "      <td>3931-1</td>\n",
       "    </tr>\n",
       "    <tr>\n",
       "      <th>2</th>\n",
       "      <td>4</td>\n",
       "      <td>1</td>\n",
       "      <td>6942-1</td>\n",
       "    </tr>\n",
       "  </tbody>\n",
       "</table>\n",
       "</div>"
      ],
      "text/plain": [
       "   id  version set_num\n",
       "0   1        1  7922-1\n",
       "1   3        1  3931-1\n",
       "2   4        1  6942-1"
      ]
     },
     "execution_count": 12,
     "metadata": {},
     "output_type": "execute_result"
    }
   ],
   "source": [
    "db.query(q1).head(3)"
   ]
  },
  {
   "cell_type": "code",
   "execution_count": 13,
   "metadata": {},
   "outputs": [
    {
     "data": {
      "text/html": [
       "<div>\n",
       "<style scoped>\n",
       "    .dataframe tbody tr th:only-of-type {\n",
       "        vertical-align: middle;\n",
       "    }\n",
       "\n",
       "    .dataframe tbody tr th {\n",
       "        vertical-align: top;\n",
       "    }\n",
       "\n",
       "    .dataframe thead th {\n",
       "        text-align: right;\n",
       "    }\n",
       "</style>\n",
       "<table border=\"1\" class=\"dataframe\">\n",
       "  <thead>\n",
       "    <tr style=\"text-align: right;\">\n",
       "      <th></th>\n",
       "      <th>inventory_id</th>\n",
       "      <th>part_num</th>\n",
       "      <th>color_id</th>\n",
       "      <th>quantity</th>\n",
       "      <th>is_spare</th>\n",
       "    </tr>\n",
       "  </thead>\n",
       "  <tbody>\n",
       "    <tr>\n",
       "      <th>0</th>\n",
       "      <td>1</td>\n",
       "      <td>48379c01</td>\n",
       "      <td>72</td>\n",
       "      <td>1</td>\n",
       "      <td>f</td>\n",
       "    </tr>\n",
       "    <tr>\n",
       "      <th>1</th>\n",
       "      <td>1</td>\n",
       "      <td>48395</td>\n",
       "      <td>7</td>\n",
       "      <td>1</td>\n",
       "      <td>f</td>\n",
       "    </tr>\n",
       "    <tr>\n",
       "      <th>2</th>\n",
       "      <td>1</td>\n",
       "      <td>mcsport6</td>\n",
       "      <td>25</td>\n",
       "      <td>1</td>\n",
       "      <td>f</td>\n",
       "    </tr>\n",
       "  </tbody>\n",
       "</table>\n",
       "</div>"
      ],
      "text/plain": [
       "   inventory_id  part_num  color_id  quantity is_spare\n",
       "0             1  48379c01        72         1        f\n",
       "1             1     48395         7         1        f\n",
       "2             1  mcsport6        25         1        f"
      ]
     },
     "execution_count": 13,
     "metadata": {},
     "output_type": "execute_result"
    }
   ],
   "source": [
    "db.query(q2).head(3)"
   ]
  },
  {
   "cell_type": "code",
   "execution_count": 14,
   "metadata": {},
   "outputs": [
    {
     "data": {
      "text/html": [
       "<div>\n",
       "<style scoped>\n",
       "    .dataframe tbody tr th:only-of-type {\n",
       "        vertical-align: middle;\n",
       "    }\n",
       "\n",
       "    .dataframe tbody tr th {\n",
       "        vertical-align: top;\n",
       "    }\n",
       "\n",
       "    .dataframe thead th {\n",
       "        text-align: right;\n",
       "    }\n",
       "</style>\n",
       "<table border=\"1\" class=\"dataframe\">\n",
       "  <thead>\n",
       "    <tr style=\"text-align: right;\">\n",
       "      <th></th>\n",
       "      <th>set_num</th>\n",
       "      <th>name</th>\n",
       "      <th>year</th>\n",
       "      <th>theme_id</th>\n",
       "      <th>num_parts</th>\n",
       "    </tr>\n",
       "  </thead>\n",
       "  <tbody>\n",
       "    <tr>\n",
       "      <th>0</th>\n",
       "      <td>00-1</td>\n",
       "      <td>Weetabix Castle</td>\n",
       "      <td>1970</td>\n",
       "      <td>414</td>\n",
       "      <td>471</td>\n",
       "    </tr>\n",
       "    <tr>\n",
       "      <th>1</th>\n",
       "      <td>0011-2</td>\n",
       "      <td>Town Mini-Figures</td>\n",
       "      <td>1978</td>\n",
       "      <td>84</td>\n",
       "      <td>12</td>\n",
       "    </tr>\n",
       "    <tr>\n",
       "      <th>2</th>\n",
       "      <td>0011-3</td>\n",
       "      <td>Castle 2 for 1 Bonus Offer</td>\n",
       "      <td>1987</td>\n",
       "      <td>199</td>\n",
       "      <td>2</td>\n",
       "    </tr>\n",
       "  </tbody>\n",
       "</table>\n",
       "</div>"
      ],
      "text/plain": [
       "  set_num                        name  year  theme_id  num_parts\n",
       "0    00-1             Weetabix Castle  1970       414        471\n",
       "1  0011-2           Town Mini-Figures  1978        84         12\n",
       "2  0011-3  Castle 2 for 1 Bonus Offer  1987       199          2"
      ]
     },
     "execution_count": 14,
     "metadata": {},
     "output_type": "execute_result"
    }
   ],
   "source": [
    "db.query(q3).head(3)"
   ]
  },
  {
   "cell_type": "code",
   "execution_count": 15,
   "metadata": {},
   "outputs": [],
   "source": [
    "q4 = '''\n",
    "SELECT i.id,\n",
    "       s.name,\n",
    "       i.version,\n",
    "       i.set_num,\n",
    "       ip.part_num,\n",
    "       ip.color_id,\n",
    "       ip.quantity,\n",
    "       ip.is_spare\n",
    "\n",
    "FROM inventories i\n",
    "LEFT JOIN inventory_parts ip\n",
    "ON i.id = ip.inventory_id\n",
    "LEFT JOIN sets s\n",
    "ON i.set_num = s.set_num\n",
    "WHERE name = 'Butterfly Girl';\n",
    "'''"
   ]
  },
  {
   "cell_type": "code",
   "execution_count": 16,
   "metadata": {
    "scrolled": true
   },
   "outputs": [
    {
     "data": {
      "text/html": [
       "<div>\n",
       "<style scoped>\n",
       "    .dataframe tbody tr th:only-of-type {\n",
       "        vertical-align: middle;\n",
       "    }\n",
       "\n",
       "    .dataframe tbody tr th {\n",
       "        vertical-align: top;\n",
       "    }\n",
       "\n",
       "    .dataframe thead th {\n",
       "        text-align: right;\n",
       "    }\n",
       "</style>\n",
       "<table border=\"1\" class=\"dataframe\">\n",
       "  <thead>\n",
       "    <tr style=\"text-align: right;\">\n",
       "      <th></th>\n",
       "      <th>id</th>\n",
       "      <th>name</th>\n",
       "      <th>version</th>\n",
       "      <th>set_num</th>\n",
       "      <th>part_num</th>\n",
       "      <th>color_id</th>\n",
       "      <th>quantity</th>\n",
       "      <th>is_spare</th>\n",
       "    </tr>\n",
       "  </thead>\n",
       "  <tbody>\n",
       "    <tr>\n",
       "      <th>0</th>\n",
       "      <td>18645</td>\n",
       "      <td>Butterfly Girl</td>\n",
       "      <td>1</td>\n",
       "      <td>71018-7</td>\n",
       "      <td>15427pr0173</td>\n",
       "      <td>226</td>\n",
       "      <td>1</td>\n",
       "      <td>f</td>\n",
       "    </tr>\n",
       "    <tr>\n",
       "      <th>1</th>\n",
       "      <td>18645</td>\n",
       "      <td>Butterfly Girl</td>\n",
       "      <td>1</td>\n",
       "      <td>71018-7</td>\n",
       "      <td>33647</td>\n",
       "      <td>45</td>\n",
       "      <td>1</td>\n",
       "      <td>f</td>\n",
       "    </tr>\n",
       "    <tr>\n",
       "      <th>2</th>\n",
       "      <td>18645</td>\n",
       "      <td>Butterfly Girl</td>\n",
       "      <td>1</td>\n",
       "      <td>71018-7</td>\n",
       "      <td>3626cpr2202</td>\n",
       "      <td>14</td>\n",
       "      <td>1</td>\n",
       "      <td>f</td>\n",
       "    </tr>\n",
       "    <tr>\n",
       "      <th>3</th>\n",
       "      <td>18645</td>\n",
       "      <td>Butterfly Girl</td>\n",
       "      <td>1</td>\n",
       "      <td>71018-7</td>\n",
       "      <td>3742</td>\n",
       "      <td>5</td>\n",
       "      <td>1</td>\n",
       "      <td>t</td>\n",
       "    </tr>\n",
       "    <tr>\n",
       "      <th>4</th>\n",
       "      <td>18645</td>\n",
       "      <td>Butterfly Girl</td>\n",
       "      <td>1</td>\n",
       "      <td>71018-7</td>\n",
       "      <td>3742</td>\n",
       "      <td>5</td>\n",
       "      <td>3</td>\n",
       "      <td>f</td>\n",
       "    </tr>\n",
       "    <tr>\n",
       "      <th>5</th>\n",
       "      <td>18645</td>\n",
       "      <td>Butterfly Girl</td>\n",
       "      <td>1</td>\n",
       "      <td>71018-7</td>\n",
       "      <td>41879bpr0010</td>\n",
       "      <td>29</td>\n",
       "      <td>1</td>\n",
       "      <td>f</td>\n",
       "    </tr>\n",
       "    <tr>\n",
       "      <th>6</th>\n",
       "      <td>18645</td>\n",
       "      <td>Butterfly Girl</td>\n",
       "      <td>1</td>\n",
       "      <td>71018-7</td>\n",
       "      <td>88646</td>\n",
       "      <td>0</td>\n",
       "      <td>1</td>\n",
       "      <td>f</td>\n",
       "    </tr>\n",
       "    <tr>\n",
       "      <th>7</th>\n",
       "      <td>18645</td>\n",
       "      <td>Butterfly Girl</td>\n",
       "      <td>1</td>\n",
       "      <td>71018-7</td>\n",
       "      <td>973pr3833c01</td>\n",
       "      <td>212</td>\n",
       "      <td>1</td>\n",
       "      <td>f</td>\n",
       "    </tr>\n",
       "    <tr>\n",
       "      <th>8</th>\n",
       "      <td>18645</td>\n",
       "      <td>Butterfly Girl</td>\n",
       "      <td>1</td>\n",
       "      <td>71018-7</td>\n",
       "      <td>99249</td>\n",
       "      <td>27</td>\n",
       "      <td>1</td>\n",
       "      <td>f</td>\n",
       "    </tr>\n",
       "  </tbody>\n",
       "</table>\n",
       "</div>"
      ],
      "text/plain": [
       "      id            name  version  set_num      part_num  color_id  quantity  \\\n",
       "0  18645  Butterfly Girl        1  71018-7   15427pr0173       226         1   \n",
       "1  18645  Butterfly Girl        1  71018-7         33647        45         1   \n",
       "2  18645  Butterfly Girl        1  71018-7   3626cpr2202        14         1   \n",
       "3  18645  Butterfly Girl        1  71018-7          3742         5         1   \n",
       "4  18645  Butterfly Girl        1  71018-7          3742         5         3   \n",
       "5  18645  Butterfly Girl        1  71018-7  41879bpr0010        29         1   \n",
       "6  18645  Butterfly Girl        1  71018-7         88646         0         1   \n",
       "7  18645  Butterfly Girl        1  71018-7  973pr3833c01       212         1   \n",
       "8  18645  Butterfly Girl        1  71018-7         99249        27         1   \n",
       "\n",
       "  is_spare  \n",
       "0        f  \n",
       "1        f  \n",
       "2        f  \n",
       "3        t  \n",
       "4        f  \n",
       "5        f  \n",
       "6        f  \n",
       "7        f  \n",
       "8        f  "
      ]
     },
     "execution_count": 16,
     "metadata": {},
     "output_type": "execute_result"
    }
   ],
   "source": [
    "df = db.query(q4)\n",
    "df"
   ]
  },
  {
   "cell_type": "code",
   "execution_count": 17,
   "metadata": {},
   "outputs": [
    {
     "name": "stdout",
     "output_type": "stream",
     "text": [
      "<class 'pandas.core.frame.DataFrame'>\n",
      "RangeIndex: 9 entries, 0 to 8\n",
      "Data columns (total 8 columns):\n",
      " #   Column    Non-Null Count  Dtype \n",
      "---  ------    --------------  ----- \n",
      " 0   id        9 non-null      int64 \n",
      " 1   name      9 non-null      object\n",
      " 2   version   9 non-null      int64 \n",
      " 3   set_num   9 non-null      object\n",
      " 4   part_num  9 non-null      object\n",
      " 5   color_id  9 non-null      int64 \n",
      " 6   quantity  9 non-null      int64 \n",
      " 7   is_spare  9 non-null      object\n",
      "dtypes: int64(4), object(4)\n",
      "memory usage: 704.0+ bytes\n"
     ]
    }
   ],
   "source": [
    "df.info()"
   ]
  },
  {
   "cell_type": "code",
   "execution_count": 18,
   "metadata": {},
   "outputs": [],
   "source": [
    "q5 = '''\n",
    "SELECT i.id,\n",
    "       s.name,\n",
    "       i.version,\n",
    "       i.set_num,\n",
    "       ip.part_num,\n",
    "       ip.color_id,\n",
    "       ip.quantity,\n",
    "       ip.is_spare\n",
    "\n",
    "FROM inventories i\n",
    "LEFT JOIN inventory_parts ip\n",
    "ON i.id = ip.inventory_id\n",
    "LEFT JOIN sets s\n",
    "ON i.set_num = s.set_num\n",
    "\n",
    "'''"
   ]
  },
  {
   "cell_type": "code",
   "execution_count": 19,
   "metadata": {},
   "outputs": [
    {
     "data": {
      "text/html": [
       "<div>\n",
       "<style scoped>\n",
       "    .dataframe tbody tr th:only-of-type {\n",
       "        vertical-align: middle;\n",
       "    }\n",
       "\n",
       "    .dataframe tbody tr th {\n",
       "        vertical-align: top;\n",
       "    }\n",
       "\n",
       "    .dataframe thead th {\n",
       "        text-align: right;\n",
       "    }\n",
       "</style>\n",
       "<table border=\"1\" class=\"dataframe\">\n",
       "  <thead>\n",
       "    <tr style=\"text-align: right;\">\n",
       "      <th></th>\n",
       "      <th>id</th>\n",
       "      <th>name</th>\n",
       "      <th>version</th>\n",
       "      <th>set_num</th>\n",
       "      <th>part_num</th>\n",
       "      <th>color_id</th>\n",
       "      <th>quantity</th>\n",
       "      <th>is_spare</th>\n",
       "    </tr>\n",
       "  </thead>\n",
       "  <tbody>\n",
       "    <tr>\n",
       "      <th>0</th>\n",
       "      <td>1</td>\n",
       "      <td>McDonald's Sports Set Number 6 - Orange Vest S...</td>\n",
       "      <td>1</td>\n",
       "      <td>7922-1</td>\n",
       "      <td>48379c01</td>\n",
       "      <td>72.0</td>\n",
       "      <td>1.0</td>\n",
       "      <td>f</td>\n",
       "    </tr>\n",
       "    <tr>\n",
       "      <th>1</th>\n",
       "      <td>1</td>\n",
       "      <td>McDonald's Sports Set Number 6 - Orange Vest S...</td>\n",
       "      <td>1</td>\n",
       "      <td>7922-1</td>\n",
       "      <td>48395</td>\n",
       "      <td>7.0</td>\n",
       "      <td>1.0</td>\n",
       "      <td>f</td>\n",
       "    </tr>\n",
       "    <tr>\n",
       "      <th>2</th>\n",
       "      <td>1</td>\n",
       "      <td>McDonald's Sports Set Number 6 - Orange Vest S...</td>\n",
       "      <td>1</td>\n",
       "      <td>7922-1</td>\n",
       "      <td>mcsport6</td>\n",
       "      <td>25.0</td>\n",
       "      <td>1.0</td>\n",
       "      <td>f</td>\n",
       "    </tr>\n",
       "    <tr>\n",
       "      <th>3</th>\n",
       "      <td>1</td>\n",
       "      <td>McDonald's Sports Set Number 6 - Orange Vest S...</td>\n",
       "      <td>1</td>\n",
       "      <td>7922-1</td>\n",
       "      <td>paddle</td>\n",
       "      <td>0.0</td>\n",
       "      <td>1.0</td>\n",
       "      <td>f</td>\n",
       "    </tr>\n",
       "    <tr>\n",
       "      <th>4</th>\n",
       "      <td>3</td>\n",
       "      <td>Emma's Splash Pool</td>\n",
       "      <td>1</td>\n",
       "      <td>3931-1</td>\n",
       "      <td>11816pr0005</td>\n",
       "      <td>78.0</td>\n",
       "      <td>1.0</td>\n",
       "      <td>f</td>\n",
       "    </tr>\n",
       "  </tbody>\n",
       "</table>\n",
       "</div>"
      ],
      "text/plain": [
       "   id                                               name  version set_num  \\\n",
       "0   1  McDonald's Sports Set Number 6 - Orange Vest S...        1  7922-1   \n",
       "1   1  McDonald's Sports Set Number 6 - Orange Vest S...        1  7922-1   \n",
       "2   1  McDonald's Sports Set Number 6 - Orange Vest S...        1  7922-1   \n",
       "3   1  McDonald's Sports Set Number 6 - Orange Vest S...        1  7922-1   \n",
       "4   3                                 Emma's Splash Pool        1  3931-1   \n",
       "\n",
       "      part_num  color_id  quantity is_spare  \n",
       "0     48379c01      72.0       1.0        f  \n",
       "1        48395       7.0       1.0        f  \n",
       "2     mcsport6      25.0       1.0        f  \n",
       "3       paddle       0.0       1.0        f  \n",
       "4  11816pr0005      78.0       1.0        f  "
      ]
     },
     "execution_count": 19,
     "metadata": {},
     "output_type": "execute_result"
    }
   ],
   "source": [
    "db.query(q5).head(5)"
   ]
  },
  {
   "cell_type": "code",
   "execution_count": 20,
   "metadata": {},
   "outputs": [],
   "source": [
    "q6 = '''\n",
    "SELECT name,\n",
    "       set_num,\n",
    "       sum(quantity) AS quantity\n",
    "FROM\n",
    "(\n",
    "    SELECT i.id,\n",
    "           s.name AS name,\n",
    "           i.version,\n",
    "           i.set_num AS set_num,\n",
    "           ip.part_num,\n",
    "           ip.color_id,\n",
    "           ip.quantity AS quantity,\n",
    "           ip.is_spare\n",
    "\n",
    "    FROM inventories i\n",
    "    LEFT JOIN inventory_parts ip\n",
    "    ON i.id = ip.inventory_id\n",
    "    LEFT JOIN sets s\n",
    "    ON i.set_num = s.set_num\n",
    ")\n",
    "WHERE quantity IS NOT NULL\n",
    "GROUP BY name, set_num\n",
    "ORDER BY quantity DESC\n",
    "\n",
    "'''"
   ]
  },
  {
   "cell_type": "code",
   "execution_count": 21,
   "metadata": {},
   "outputs": [
    {
     "data": {
      "text/html": [
       "<div>\n",
       "<style scoped>\n",
       "    .dataframe tbody tr th:only-of-type {\n",
       "        vertical-align: middle;\n",
       "    }\n",
       "\n",
       "    .dataframe tbody tr th {\n",
       "        vertical-align: top;\n",
       "    }\n",
       "\n",
       "    .dataframe thead th {\n",
       "        text-align: right;\n",
       "    }\n",
       "</style>\n",
       "<table border=\"1\" class=\"dataframe\">\n",
       "  <thead>\n",
       "    <tr style=\"text-align: right;\">\n",
       "      <th></th>\n",
       "      <th>name</th>\n",
       "      <th>set_num</th>\n",
       "      <th>quantity</th>\n",
       "    </tr>\n",
       "  </thead>\n",
       "  <tbody>\n",
       "    <tr>\n",
       "      <th>0</th>\n",
       "      <td>Taj Mahal</td>\n",
       "      <td>10189-1</td>\n",
       "      <td>5962</td>\n",
       "    </tr>\n",
       "    <tr>\n",
       "      <th>1</th>\n",
       "      <td>Star Wars / M&amp;M Mosaic - Promo Set</td>\n",
       "      <td>SWMP-1</td>\n",
       "      <td>5462</td>\n",
       "    </tr>\n",
       "    <tr>\n",
       "      <th>2</th>\n",
       "      <td>Millennium Falcon - UCS</td>\n",
       "      <td>10179-1</td>\n",
       "      <td>5217</td>\n",
       "    </tr>\n",
       "    <tr>\n",
       "      <th>3</th>\n",
       "      <td>Window Exploration Bag</td>\n",
       "      <td>2000409-1</td>\n",
       "      <td>5200</td>\n",
       "    </tr>\n",
       "    <tr>\n",
       "      <th>4</th>\n",
       "      <td>Firehouse Headquarters</td>\n",
       "      <td>75827-1</td>\n",
       "      <td>4788</td>\n",
       "    </tr>\n",
       "    <tr>\n",
       "      <th>5</th>\n",
       "      <td>Personalised Mosaic Portrait</td>\n",
       "      <td>40179-1</td>\n",
       "      <td>4502</td>\n",
       "    </tr>\n",
       "    <tr>\n",
       "      <th>6</th>\n",
       "      <td>Tower Bridge</td>\n",
       "      <td>10214-1</td>\n",
       "      <td>4335</td>\n",
       "    </tr>\n",
       "    <tr>\n",
       "      <th>7</th>\n",
       "      <td>Big Ben</td>\n",
       "      <td>10253-1</td>\n",
       "      <td>4259</td>\n",
       "    </tr>\n",
       "    <tr>\n",
       "      <th>8</th>\n",
       "      <td>The Disney Castle</td>\n",
       "      <td>71040-1</td>\n",
       "      <td>4194</td>\n",
       "    </tr>\n",
       "    <tr>\n",
       "      <th>9</th>\n",
       "      <td>Assembly Square</td>\n",
       "      <td>10255-1</td>\n",
       "      <td>4147</td>\n",
       "    </tr>\n",
       "    <tr>\n",
       "      <th>10</th>\n",
       "      <td>Death Star</td>\n",
       "      <td>75159-1</td>\n",
       "      <td>4094</td>\n",
       "    </tr>\n",
       "    <tr>\n",
       "      <th>11</th>\n",
       "      <td>Bucket Wheel Excavator</td>\n",
       "      <td>42055-1</td>\n",
       "      <td>3979</td>\n",
       "    </tr>\n",
       "    <tr>\n",
       "      <th>12</th>\n",
       "      <td>Death Star</td>\n",
       "      <td>10188-1</td>\n",
       "      <td>3886</td>\n",
       "    </tr>\n",
       "    <tr>\n",
       "      <th>13</th>\n",
       "      <td>Death Star II</td>\n",
       "      <td>10143-1</td>\n",
       "      <td>3460</td>\n",
       "    </tr>\n",
       "    <tr>\n",
       "      <th>14</th>\n",
       "      <td>Eiffel Tower 1:300 Scale</td>\n",
       "      <td>10181-1</td>\n",
       "      <td>3443</td>\n",
       "    </tr>\n",
       "    <tr>\n",
       "      <th>15</th>\n",
       "      <td>Sandcrawler</td>\n",
       "      <td>75059-1</td>\n",
       "      <td>3366</td>\n",
       "    </tr>\n",
       "    <tr>\n",
       "      <th>16</th>\n",
       "      <td>Grand Carousel</td>\n",
       "      <td>10196-1</td>\n",
       "      <td>3295</td>\n",
       "    </tr>\n",
       "    <tr>\n",
       "      <th>17</th>\n",
       "      <td>Super Star Destroyer</td>\n",
       "      <td>10221-1</td>\n",
       "      <td>3176</td>\n",
       "    </tr>\n",
       "    <tr>\n",
       "      <th>18</th>\n",
       "      <td>Imperial Star Destroyer - UCS</td>\n",
       "      <td>10030-1</td>\n",
       "      <td>3133</td>\n",
       "    </tr>\n",
       "    <tr>\n",
       "      <th>19</th>\n",
       "      <td>The SHIELD Helicarrier</td>\n",
       "      <td>76042-1</td>\n",
       "      <td>3079</td>\n",
       "    </tr>\n",
       "  </tbody>\n",
       "</table>\n",
       "</div>"
      ],
      "text/plain": [
       "                                  name    set_num  quantity\n",
       "0                            Taj Mahal    10189-1      5962\n",
       "1   Star Wars / M&M Mosaic - Promo Set     SWMP-1      5462\n",
       "2              Millennium Falcon - UCS    10179-1      5217\n",
       "3               Window Exploration Bag  2000409-1      5200\n",
       "4               Firehouse Headquarters    75827-1      4788\n",
       "5         Personalised Mosaic Portrait    40179-1      4502\n",
       "6                         Tower Bridge    10214-1      4335\n",
       "7                              Big Ben    10253-1      4259\n",
       "8                    The Disney Castle    71040-1      4194\n",
       "9                      Assembly Square    10255-1      4147\n",
       "10                          Death Star    75159-1      4094\n",
       "11              Bucket Wheel Excavator    42055-1      3979\n",
       "12                          Death Star    10188-1      3886\n",
       "13                       Death Star II    10143-1      3460\n",
       "14            Eiffel Tower 1:300 Scale    10181-1      3443\n",
       "15                         Sandcrawler    75059-1      3366\n",
       "16                      Grand Carousel    10196-1      3295\n",
       "17                Super Star Destroyer    10221-1      3176\n",
       "18       Imperial Star Destroyer - UCS    10030-1      3133\n",
       "19              The SHIELD Helicarrier    76042-1      3079"
      ]
     },
     "execution_count": 21,
     "metadata": {},
     "output_type": "execute_result"
    }
   ],
   "source": [
    "db.query(q6).head(20)"
   ]
  },
  {
   "cell_type": "code",
   "execution_count": 23,
   "metadata": {},
   "outputs": [
    {
     "data": {
      "text/plain": [
       "['colors',\n",
       " 'inventories',\n",
       " 'inventory_parts',\n",
       " 'inventory_sets',\n",
       " 'part_categories',\n",
       " 'parts',\n",
       " 'sets',\n",
       " 'themes']"
      ]
     },
     "execution_count": 23,
     "metadata": {},
     "output_type": "execute_result"
    }
   ],
   "source": [
    "db.TableNames()"
   ]
  },
  {
   "cell_type": "code",
   "execution_count": 24,
   "metadata": {},
   "outputs": [
    {
     "data": {
      "text/plain": [
       "'inventories has been deleted'"
      ]
     },
     "execution_count": 24,
     "metadata": {},
     "output_type": "execute_result"
    }
   ],
   "source": [
    "db.DropTable('inventories')"
   ]
  },
  {
   "cell_type": "code",
   "execution_count": 25,
   "metadata": {},
   "outputs": [
    {
     "data": {
      "text/plain": [
       "['colors',\n",
       " 'inventory_parts',\n",
       " 'inventory_sets',\n",
       " 'part_categories',\n",
       " 'parts',\n",
       " 'sets',\n",
       " 'themes']"
      ]
     },
     "execution_count": 25,
     "metadata": {},
     "output_type": "execute_result"
    }
   ],
   "source": [
    "db.TableNames()"
   ]
  },
  {
   "cell_type": "code",
   "execution_count": 26,
   "metadata": {},
   "outputs": [
    {
     "data": {
      "text/html": [
       "<div>\n",
       "<style scoped>\n",
       "    .dataframe tbody tr th:only-of-type {\n",
       "        vertical-align: middle;\n",
       "    }\n",
       "\n",
       "    .dataframe tbody tr th {\n",
       "        vertical-align: top;\n",
       "    }\n",
       "\n",
       "    .dataframe thead th {\n",
       "        text-align: right;\n",
       "    }\n",
       "</style>\n",
       "<table border=\"1\" class=\"dataframe\">\n",
       "  <thead>\n",
       "    <tr style=\"text-align: right;\">\n",
       "      <th></th>\n",
       "      <th>part_num</th>\n",
       "      <th>name</th>\n",
       "      <th>part_cat_id</th>\n",
       "    </tr>\n",
       "  </thead>\n",
       "  <tbody>\n",
       "    <tr>\n",
       "      <th>0</th>\n",
       "      <td>0687b1</td>\n",
       "      <td>Set 0687 Activity Booklet 1</td>\n",
       "      <td>17</td>\n",
       "    </tr>\n",
       "    <tr>\n",
       "      <th>1</th>\n",
       "      <td>0901</td>\n",
       "      <td>Baseplate 16 x 30 with Set 080 Yellow House Print</td>\n",
       "      <td>1</td>\n",
       "    </tr>\n",
       "    <tr>\n",
       "      <th>2</th>\n",
       "      <td>0902</td>\n",
       "      <td>Baseplate 16 x 24 with Set 080 Small White Hou...</td>\n",
       "      <td>1</td>\n",
       "    </tr>\n",
       "    <tr>\n",
       "      <th>3</th>\n",
       "      <td>0903</td>\n",
       "      <td>Baseplate 16 x 24 with Set 080 Red House Print</td>\n",
       "      <td>1</td>\n",
       "    </tr>\n",
       "    <tr>\n",
       "      <th>4</th>\n",
       "      <td>0904</td>\n",
       "      <td>Baseplate 16 x 24 with Set 080 Large White Hou...</td>\n",
       "      <td>1</td>\n",
       "    </tr>\n",
       "    <tr>\n",
       "      <th>...</th>\n",
       "      <td>...</td>\n",
       "      <td>...</td>\n",
       "      <td>...</td>\n",
       "    </tr>\n",
       "    <tr>\n",
       "      <th>25988</th>\n",
       "      <td>zbb013</td>\n",
       "      <td>Znap Connector 3 x 3 - 4 way B (Beam)</td>\n",
       "      <td>43</td>\n",
       "    </tr>\n",
       "    <tr>\n",
       "      <th>25989</th>\n",
       "      <td>zbb014</td>\n",
       "      <td>Znap Connector 1 x 3 - 2 way A</td>\n",
       "      <td>43</td>\n",
       "    </tr>\n",
       "    <tr>\n",
       "      <th>25990</th>\n",
       "      <td>zbb015</td>\n",
       "      <td>Znap Beam 3, 1 Hole</td>\n",
       "      <td>43</td>\n",
       "    </tr>\n",
       "    <tr>\n",
       "      <th>25991</th>\n",
       "      <td>zbb018</td>\n",
       "      <td>Znap Connector 3 x 3 - 4 way C (Closed)</td>\n",
       "      <td>43</td>\n",
       "    </tr>\n",
       "    <tr>\n",
       "      <th>25992</th>\n",
       "      <td>zbb022</td>\n",
       "      <td>Wheel 68mm Znap Propeller (9 x 2)</td>\n",
       "      <td>29</td>\n",
       "    </tr>\n",
       "  </tbody>\n",
       "</table>\n",
       "<p>25993 rows × 3 columns</p>\n",
       "</div>"
      ],
      "text/plain": [
       "      part_num                                               name  part_cat_id\n",
       "0       0687b1                        Set 0687 Activity Booklet 1           17\n",
       "1         0901  Baseplate 16 x 30 with Set 080 Yellow House Print            1\n",
       "2         0902  Baseplate 16 x 24 with Set 080 Small White Hou...            1\n",
       "3         0903     Baseplate 16 x 24 with Set 080 Red House Print            1\n",
       "4         0904  Baseplate 16 x 24 with Set 080 Large White Hou...            1\n",
       "...        ...                                                ...          ...\n",
       "25988   zbb013              Znap Connector 3 x 3 - 4 way B (Beam)           43\n",
       "25989   zbb014                     Znap Connector 1 x 3 - 2 way A           43\n",
       "25990   zbb015                                Znap Beam 3, 1 Hole           43\n",
       "25991   zbb018            Znap Connector 3 x 3 - 4 way C (Closed)           43\n",
       "25992   zbb022                  Wheel 68mm Znap Propeller (9 x 2)           29\n",
       "\n",
       "[25993 rows x 3 columns]"
      ]
     },
     "execution_count": 26,
     "metadata": {},
     "output_type": "execute_result"
    }
   ],
   "source": [
    "db.query('Select * from parts')"
   ]
  },
  {
   "cell_type": "code",
   "execution_count": 28,
   "metadata": {},
   "outputs": [
    {
     "data": {
      "text/plain": [
       "'Customer is not a table in the current database.'"
      ]
     },
     "execution_count": 28,
     "metadata": {},
     "output_type": "execute_result"
    }
   ],
   "source": [
    "db.DropTable('Customer')"
   ]
  },
  {
   "cell_type": "code",
   "execution_count": null,
   "metadata": {},
   "outputs": [],
   "source": []
  }
 ],
 "metadata": {
  "kernelspec": {
   "display_name": "Python 3",
   "language": "python",
   "name": "python3"
  },
  "language_info": {
   "codemirror_mode": {
    "name": "ipython",
    "version": 3
   },
   "file_extension": ".py",
   "mimetype": "text/x-python",
   "name": "python",
   "nbconvert_exporter": "python",
   "pygments_lexer": "ipython3",
   "version": "3.8.8"
  },
  "vscode": {
   "interpreter": {
    "hash": "cd78fef2128015050713e82ca51c6520b11aee7c9ee8df750520bbbc7384cbaa"
   }
  }
 },
 "nbformat": 4,
 "nbformat_minor": 2
}
